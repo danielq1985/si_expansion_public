{
 "cells": [
  {
   "cell_type": "markdown",
   "id": "4518076d",
   "metadata": {},
   "source": [
    "# Data Prep\n",
    "---\n",
    "### Summary\n",
    "    1. Import Modules and Data\n",
    "    2. Data Exploration\n",
    "    3. Data Cleaning\n",
    "        A. Drop Useless Columns\n",
    "        B. Drop Null Values\n",
    "        C. Rename Columns\n",
    "    4. Export Clean Data"
   ]
  },
  {
   "cell_type": "markdown",
   "id": "bcaa80a4",
   "metadata": {},
   "source": [
    "## 1. Import Modules and Data"
   ]
  },
  {
   "cell_type": "code",
   "execution_count": 53,
   "id": "c8bd3330",
   "metadata": {},
   "outputs": [],
   "source": [
    "import pandas as pd\n",
    "import numpy as np\n",
    "import datetime\n",
    "from datetime import date\n",
    "import matplotlib.pyplot as plt\n",
    "%matplotlib inline\n",
    "\n",
    "# disable chained assignments\n",
    "pd.options.mode.chained_assignment = None\n",
    "\n",
    "# See all data\n",
    "pd.set_option('display.max_columns', None)\n",
    "pd.set_option('display.max_rows', None)\n",
    "pd.set_option('display.max_colwidth', -1)"
   ]
  },
  {
   "cell_type": "code",
   "execution_count": 54,
   "id": "8c17cba9",
   "metadata": {},
   "outputs": [],
   "source": [
    "df = pd.read_csv(\"crm_data.csv\")"
   ]
  },
  {
   "cell_type": "code",
   "execution_count": 55,
   "id": "0befaa5e",
   "metadata": {},
   "outputs": [
    {
     "data": {
      "text/html": [
       "<div>\n",
       "<style scoped>\n",
       "    .dataframe tbody tr th:only-of-type {\n",
       "        vertical-align: middle;\n",
       "    }\n",
       "\n",
       "    .dataframe tbody tr th {\n",
       "        vertical-align: top;\n",
       "    }\n",
       "\n",
       "    .dataframe thead th {\n",
       "        text-align: right;\n",
       "    }\n",
       "</style>\n",
       "<table border=\"1\" class=\"dataframe\">\n",
       "  <thead>\n",
       "    <tr style=\"text-align: right;\">\n",
       "      <th></th>\n",
       "      <th>Invoice Date</th>\n",
       "      <th>Invoice #</th>\n",
       "      <th>Location City</th>\n",
       "      <th>Location State</th>\n",
       "      <th>Location Zip</th>\n",
       "      <th>Job Type</th>\n",
       "      <th>Zone</th>\n",
       "      <th>Total</th>\n",
       "      <th>Completion Date</th>\n",
       "      <th>Job Class</th>\n",
       "    </tr>\n",
       "  </thead>\n",
       "  <tbody>\n",
       "    <tr>\n",
       "      <th>0</th>\n",
       "      <td>2021-01-15</td>\n",
       "      <td>18969046</td>\n",
       "      <td>Colorado Springs</td>\n",
       "      <td>CO</td>\n",
       "      <td>80917.0</td>\n",
       "      <td>Sprinkler Repair</td>\n",
       "      <td>Powers</td>\n",
       "      <td>49.0</td>\n",
       "      <td>2021-01-15</td>\n",
       "      <td>Service</td>\n",
       "    </tr>\n",
       "  </tbody>\n",
       "</table>\n",
       "</div>"
      ],
      "text/plain": [
       "  Invoice Date Invoice #     Location City Location State  Location Zip  \\\n",
       "0  2021-01-15   18969046  Colorado Springs  CO             80917.0        \n",
       "\n",
       "           Job Type    Zone  Total Completion Date Job Class  \n",
       "0  Sprinkler Repair  Powers  49.0   2021-01-15      Service   "
      ]
     },
     "execution_count": 55,
     "metadata": {},
     "output_type": "execute_result"
    }
   ],
   "source": [
    "df.head(1)"
   ]
  },
  {
   "cell_type": "markdown",
   "id": "82ef838b",
   "metadata": {},
   "source": [
    "## 2. Data Exploration"
   ]
  },
  {
   "cell_type": "code",
   "execution_count": 56,
   "id": "53595a7b",
   "metadata": {},
   "outputs": [
    {
     "name": "stdout",
     "output_type": "stream",
     "text": [
      "<class 'pandas.core.frame.DataFrame'>\n",
      "RangeIndex: 15754 entries, 0 to 15753\n",
      "Data columns (total 10 columns):\n",
      " #   Column           Non-Null Count  Dtype  \n",
      "---  ------           --------------  -----  \n",
      " 0   Invoice Date     15753 non-null  object \n",
      " 1   Invoice #        15754 non-null  object \n",
      " 2   Location City    15709 non-null  object \n",
      " 3   Location State   15694 non-null  object \n",
      " 4   Location Zip     15673 non-null  float64\n",
      " 5   Job Type         15754 non-null  object \n",
      " 6   Zone             15664 non-null  object \n",
      " 7   Total            15754 non-null  float64\n",
      " 8   Completion Date  15753 non-null  object \n",
      " 9   Job Class        3354 non-null   object \n",
      "dtypes: float64(2), object(8)\n",
      "memory usage: 1.2+ MB\n"
     ]
    }
   ],
   "source": [
    "# What is the shape of our data?\n",
    "df.info()"
   ]
  },
  {
   "cell_type": "markdown",
   "id": "6c9bcd25",
   "metadata": {},
   "source": [
    "## 3. Data Cleaning"
   ]
  },
  {
   "cell_type": "markdown",
   "id": "03e2b432",
   "metadata": {},
   "source": [
    "### A) Drop Useless Columns"
   ]
  },
  {
   "cell_type": "code",
   "execution_count": 57,
   "id": "0db70cd5",
   "metadata": {},
   "outputs": [
    {
     "data": {
      "text/html": [
       "<div>\n",
       "<style scoped>\n",
       "    .dataframe tbody tr th:only-of-type {\n",
       "        vertical-align: middle;\n",
       "    }\n",
       "\n",
       "    .dataframe tbody tr th {\n",
       "        vertical-align: top;\n",
       "    }\n",
       "\n",
       "    .dataframe thead th {\n",
       "        text-align: right;\n",
       "    }\n",
       "</style>\n",
       "<table border=\"1\" class=\"dataframe\">\n",
       "  <thead>\n",
       "    <tr style=\"text-align: right;\">\n",
       "      <th></th>\n",
       "      <th>Invoice Date</th>\n",
       "      <th>Invoice #</th>\n",
       "      <th>Location Zip</th>\n",
       "      <th>Total</th>\n",
       "      <th>Completion Date</th>\n",
       "    </tr>\n",
       "  </thead>\n",
       "  <tbody>\n",
       "    <tr>\n",
       "      <th>0</th>\n",
       "      <td>2021-01-15</td>\n",
       "      <td>18969046</td>\n",
       "      <td>80917.0</td>\n",
       "      <td>49.0</td>\n",
       "      <td>2021-01-15</td>\n",
       "    </tr>\n",
       "    <tr>\n",
       "      <th>1</th>\n",
       "      <td>2020-12-15</td>\n",
       "      <td>18969302</td>\n",
       "      <td>80906.0</td>\n",
       "      <td>84.0</td>\n",
       "      <td>2020-12-15</td>\n",
       "    </tr>\n",
       "    <tr>\n",
       "      <th>2</th>\n",
       "      <td>2021-01-15</td>\n",
       "      <td>18969558</td>\n",
       "      <td>80921.0</td>\n",
       "      <td>84.0</td>\n",
       "      <td>2021-01-15</td>\n",
       "    </tr>\n",
       "    <tr>\n",
       "      <th>3</th>\n",
       "      <td>2021-01-15</td>\n",
       "      <td>18969814</td>\n",
       "      <td>80831.0</td>\n",
       "      <td>0.0</td>\n",
       "      <td>2021-01-15</td>\n",
       "    </tr>\n",
       "    <tr>\n",
       "      <th>4</th>\n",
       "      <td>2021-01-18</td>\n",
       "      <td>18970070</td>\n",
       "      <td>80831.0</td>\n",
       "      <td>84.0</td>\n",
       "      <td>2021-01-18</td>\n",
       "    </tr>\n",
       "  </tbody>\n",
       "</table>\n",
       "</div>"
      ],
      "text/plain": [
       "  Invoice Date Invoice #  Location Zip  Total Completion Date\n",
       "0  2021-01-15   18969046  80917.0       49.0   2021-01-15    \n",
       "1  2020-12-15   18969302  80906.0       84.0   2020-12-15    \n",
       "2  2021-01-15   18969558  80921.0       84.0   2021-01-15    \n",
       "3  2021-01-15   18969814  80831.0       0.0    2021-01-15    \n",
       "4  2021-01-18   18970070  80831.0       84.0   2021-01-18    "
      ]
     },
     "execution_count": 57,
     "metadata": {},
     "output_type": "execute_result"
    }
   ],
   "source": [
    "df = df.drop(columns=[\n",
    "    \"Job Class\", # Not useful for analysis\n",
    "    \"Zone\",\n",
    "    \"Job Type\",\n",
    "    \"Location State\",\n",
    "    \"Location City\"]) # Could use Address or Location\n",
    "\n",
    "df.head()"
   ]
  },
  {
   "cell_type": "markdown",
   "id": "78f19b92",
   "metadata": {},
   "source": [
    "### B) Drop Null Values"
   ]
  },
  {
   "cell_type": "code",
   "execution_count": 58,
   "id": "72386543",
   "metadata": {},
   "outputs": [
    {
     "data": {
      "text/plain": [
       "Invoice Date       1 \n",
       "Invoice #          0 \n",
       "Location Zip       81\n",
       "Total              0 \n",
       "Completion Date    1 \n",
       "dtype: int64"
      ]
     },
     "execution_count": 58,
     "metadata": {},
     "output_type": "execute_result"
    }
   ],
   "source": [
    "# How many null values and which columns?\n",
    "df.isnull().sum()"
   ]
  },
  {
   "cell_type": "code",
   "execution_count": 59,
   "id": "d7a29601",
   "metadata": {},
   "outputs": [],
   "source": [
    "# Drop all null values\n",
    "df = df.dropna()"
   ]
  },
  {
   "cell_type": "code",
   "execution_count": 60,
   "id": "b383497e",
   "metadata": {},
   "outputs": [
    {
     "data": {
      "text/plain": [
       "Invoice Date       0\n",
       "Invoice #          0\n",
       "Location Zip       0\n",
       "Total              0\n",
       "Completion Date    0\n",
       "dtype: int64"
      ]
     },
     "execution_count": 60,
     "metadata": {},
     "output_type": "execute_result"
    }
   ],
   "source": [
    "df.isnull().sum()"
   ]
  },
  {
   "cell_type": "markdown",
   "id": "de902f24",
   "metadata": {},
   "source": [
    "### C) Rename Columns"
   ]
  },
  {
   "cell_type": "code",
   "execution_count": 61,
   "id": "5525be3a",
   "metadata": {},
   "outputs": [
    {
     "name": "stderr",
     "output_type": "stream",
     "text": [
      "<ipython-input-61-10abfc4b083d>:2: FutureWarning: The default value of regex will change from True to False in a future version. In addition, single character regular expressions will*not* be treated as literal strings when regex=True.\n",
      "  df.columns = df.columns.str.strip().str.lower().str.replace(' ', '_')\\\n"
     ]
    }
   ],
   "source": [
    "# Clean up column names\n",
    "df.columns = df.columns.str.strip().str.lower().str.replace(' ', '_')\\\n",
    "            .str.replace('(', '')\\\n",
    "            .str.replace(')', '')\\\n",
    "            .str.replace('#', 'number')"
   ]
  },
  {
   "cell_type": "code",
   "execution_count": 62,
   "id": "bf27648b",
   "metadata": {},
   "outputs": [
    {
     "name": "stdout",
     "output_type": "stream",
     "text": [
      "<class 'pandas.core.frame.DataFrame'>\n",
      "Int64Index: 15673 entries, 0 to 15752\n",
      "Data columns (total 5 columns):\n",
      " #   Column           Non-Null Count  Dtype  \n",
      "---  ------           --------------  -----  \n",
      " 0   invoice_date     15673 non-null  object \n",
      " 1   invoice_number   15673 non-null  object \n",
      " 2   location_zip     15673 non-null  float64\n",
      " 3   total            15673 non-null  float64\n",
      " 4   completion_date  15673 non-null  object \n",
      "dtypes: float64(2), object(3)\n",
      "memory usage: 734.7+ KB\n"
     ]
    }
   ],
   "source": [
    "df.info()"
   ]
  },
  {
   "cell_type": "markdown",
   "id": "d78dbb75",
   "metadata": {},
   "source": [
    "## 4. Export Clean Data "
   ]
  },
  {
   "cell_type": "code",
   "execution_count": 63,
   "id": "e76dc811",
   "metadata": {},
   "outputs": [],
   "source": [
    "df.to_csv(\"clean_crm_data.csv\", encoding='utf-8', index=False)"
   ]
  },
  {
   "cell_type": "code",
   "execution_count": 64,
   "id": "487126f0",
   "metadata": {},
   "outputs": [
    {
     "data": {
      "text/html": [
       "<div>\n",
       "<style scoped>\n",
       "    .dataframe tbody tr th:only-of-type {\n",
       "        vertical-align: middle;\n",
       "    }\n",
       "\n",
       "    .dataframe tbody tr th {\n",
       "        vertical-align: top;\n",
       "    }\n",
       "\n",
       "    .dataframe thead th {\n",
       "        text-align: right;\n",
       "    }\n",
       "</style>\n",
       "<table border=\"1\" class=\"dataframe\">\n",
       "  <thead>\n",
       "    <tr style=\"text-align: right;\">\n",
       "      <th></th>\n",
       "      <th>invoice_date</th>\n",
       "      <th>invoice_number</th>\n",
       "      <th>location_zip</th>\n",
       "      <th>total</th>\n",
       "      <th>completion_date</th>\n",
       "    </tr>\n",
       "  </thead>\n",
       "  <tbody>\n",
       "    <tr>\n",
       "      <th>0</th>\n",
       "      <td>2021-01-15</td>\n",
       "      <td>18969046</td>\n",
       "      <td>80917.0</td>\n",
       "      <td>49.0</td>\n",
       "      <td>2021-01-15</td>\n",
       "    </tr>\n",
       "    <tr>\n",
       "      <th>1</th>\n",
       "      <td>2020-12-15</td>\n",
       "      <td>18969302</td>\n",
       "      <td>80906.0</td>\n",
       "      <td>84.0</td>\n",
       "      <td>2020-12-15</td>\n",
       "    </tr>\n",
       "    <tr>\n",
       "      <th>2</th>\n",
       "      <td>2021-01-15</td>\n",
       "      <td>18969558</td>\n",
       "      <td>80921.0</td>\n",
       "      <td>84.0</td>\n",
       "      <td>2021-01-15</td>\n",
       "    </tr>\n",
       "    <tr>\n",
       "      <th>3</th>\n",
       "      <td>2021-01-15</td>\n",
       "      <td>18969814</td>\n",
       "      <td>80831.0</td>\n",
       "      <td>0.0</td>\n",
       "      <td>2021-01-15</td>\n",
       "    </tr>\n",
       "    <tr>\n",
       "      <th>4</th>\n",
       "      <td>2021-01-18</td>\n",
       "      <td>18970070</td>\n",
       "      <td>80831.0</td>\n",
       "      <td>84.0</td>\n",
       "      <td>2021-01-18</td>\n",
       "    </tr>\n",
       "  </tbody>\n",
       "</table>\n",
       "</div>"
      ],
      "text/plain": [
       "  invoice_date invoice_number  location_zip  total completion_date\n",
       "0  2021-01-15   18969046       80917.0       49.0   2021-01-15    \n",
       "1  2020-12-15   18969302       80906.0       84.0   2020-12-15    \n",
       "2  2021-01-15   18969558       80921.0       84.0   2021-01-15    \n",
       "3  2021-01-15   18969814       80831.0       0.0    2021-01-15    \n",
       "4  2021-01-18   18970070       80831.0       84.0   2021-01-18    "
      ]
     },
     "execution_count": 64,
     "metadata": {},
     "output_type": "execute_result"
    }
   ],
   "source": [
    "check = pd.read_csv(\"clean_crm_data.csv\")\n",
    "check.head()"
   ]
  },
  {
   "cell_type": "code",
   "execution_count": null,
   "id": "ccf2d2bd",
   "metadata": {},
   "outputs": [],
   "source": []
  }
 ],
 "metadata": {
  "kernelspec": {
   "display_name": "Python 3",
   "language": "python",
   "name": "python3"
  },
  "language_info": {
   "codemirror_mode": {
    "name": "ipython",
    "version": 3
   },
   "file_extension": ".py",
   "mimetype": "text/x-python",
   "name": "python",
   "nbconvert_exporter": "python",
   "pygments_lexer": "ipython3",
   "version": "3.8.8"
  }
 },
 "nbformat": 4,
 "nbformat_minor": 5
}
