{
 "cells": [
  {
   "cell_type": "markdown",
   "id": "893d0f88",
   "metadata": {},
   "source": [
    "# How is performance distributed accross zip codes?\n",
    "---\n",
    "### Summary\n",
    "    1. Import Modules and Data\n",
    "    2. Clean Data\n",
    "        A. Convert/Index/Sort Data By 'datetime'\n",
    "        B. Convert location zip to int\n",
    "    3. Data Exploration\n",
    "        A. How many zip codes do we service?\n",
    "        B. How many jobs completed per zip?\n",
    "        C. How much money was spent per zip?\n",
    "    4. Merge Frequency df and Monetary df\n",
    "    5. Rank each zip based on Frequency and Monetary value\n",
    "    6. Label each zip based on rank\n",
    "    7. Plot \n",
    "    8. Save Data\n",
    "      \n",
    "    \n",
    "        \n"
   ]
  },
  {
   "cell_type": "markdown",
   "id": "7115c31f",
   "metadata": {},
   "source": [
    "## 1. Import Modules and Data"
   ]
  },
  {
   "cell_type": "code",
   "execution_count": 103,
   "id": "e7ad3f70",
   "metadata": {},
   "outputs": [],
   "source": [
    "import pandas as pd\n",
    "import numpy as np\n",
    "import datetime\n",
    "from datetime import date\n",
    "import matplotlib.pyplot as plt\n",
    "%matplotlib inline\n",
    "import seaborn as sns\n",
    "\n",
    "# disable chained assignments\n",
    "pd.options.mode.chained_assignment = None\n",
    "\n",
    "# See all data\n",
    "pd.set_option('display.max_columns', None)\n",
    "pd.set_option('display.max_rows', None)\n",
    "pd.set_option('display.max_colwidth', -1)"
   ]
  },
  {
   "cell_type": "code",
   "execution_count": 75,
   "id": "b8d2cf59",
   "metadata": {},
   "outputs": [],
   "source": [
    "df = pd.read_csv(\"clean_crm_data.csv\")"
   ]
  },
  {
   "cell_type": "code",
   "execution_count": 76,
   "id": "39a0baeb",
   "metadata": {},
   "outputs": [
    {
     "data": {
      "text/html": [
       "<div>\n",
       "<style scoped>\n",
       "    .dataframe tbody tr th:only-of-type {\n",
       "        vertical-align: middle;\n",
       "    }\n",
       "\n",
       "    .dataframe tbody tr th {\n",
       "        vertical-align: top;\n",
       "    }\n",
       "\n",
       "    .dataframe thead th {\n",
       "        text-align: right;\n",
       "    }\n",
       "</style>\n",
       "<table border=\"1\" class=\"dataframe\">\n",
       "  <thead>\n",
       "    <tr style=\"text-align: right;\">\n",
       "      <th></th>\n",
       "      <th>invoice_date</th>\n",
       "      <th>invoice_number</th>\n",
       "      <th>location_zip</th>\n",
       "      <th>total</th>\n",
       "      <th>completion_date</th>\n",
       "    </tr>\n",
       "  </thead>\n",
       "  <tbody>\n",
       "    <tr>\n",
       "      <th>0</th>\n",
       "      <td>2021-01-15</td>\n",
       "      <td>18969046</td>\n",
       "      <td>80917.0</td>\n",
       "      <td>49.0</td>\n",
       "      <td>2021-01-15</td>\n",
       "    </tr>\n",
       "  </tbody>\n",
       "</table>\n",
       "</div>"
      ],
      "text/plain": [
       "  invoice_date invoice_number  location_zip  total completion_date\n",
       "0  2021-01-15   18969046       80917.0       49.0   2021-01-15    "
      ]
     },
     "execution_count": 76,
     "metadata": {},
     "output_type": "execute_result"
    }
   ],
   "source": [
    "df.head(1)"
   ]
  },
  {
   "cell_type": "code",
   "execution_count": 77,
   "id": "c42bd02f",
   "metadata": {},
   "outputs": [
    {
     "name": "stdout",
     "output_type": "stream",
     "text": [
      "<class 'pandas.core.frame.DataFrame'>\n",
      "RangeIndex: 15673 entries, 0 to 15672\n",
      "Data columns (total 5 columns):\n",
      " #   Column           Non-Null Count  Dtype  \n",
      "---  ------           --------------  -----  \n",
      " 0   invoice_date     15673 non-null  object \n",
      " 1   invoice_number   15673 non-null  object \n",
      " 2   location_zip     15673 non-null  float64\n",
      " 3   total            15673 non-null  float64\n",
      " 4   completion_date  15673 non-null  object \n",
      "dtypes: float64(2), object(3)\n",
      "memory usage: 612.4+ KB\n"
     ]
    }
   ],
   "source": [
    "df.info()"
   ]
  },
  {
   "cell_type": "markdown",
   "id": "6d2b2240",
   "metadata": {},
   "source": [
    "## Clean Data"
   ]
  },
  {
   "cell_type": "markdown",
   "id": "1773afbe",
   "metadata": {},
   "source": [
    "### A. Convert/Index/Sort Data By 'datetime'"
   ]
  },
  {
   "cell_type": "code",
   "execution_count": 78,
   "id": "07c2cba8",
   "metadata": {},
   "outputs": [],
   "source": [
    "# Convert invoice dates to pd date time\n",
    "df['invoice_date'] = pd.to_datetime(df.invoice_date)\n",
    "\n",
    "# Index DF with 'invoice_date' and sort ascending\n",
    "df = df.sort_values(by='invoice_date', ascending=False)\n",
    "df = df.set_index(df['invoice_date'])"
   ]
  },
  {
   "cell_type": "code",
   "execution_count": 79,
   "id": "2ec60cb7",
   "metadata": {},
   "outputs": [
    {
     "data": {
      "text/plain": [
       "invoice_date       datetime64[ns]\n",
       "invoice_number     object        \n",
       "location_zip       float64       \n",
       "total              float64       \n",
       "completion_date    object        \n",
       "dtype: object"
      ]
     },
     "execution_count": 79,
     "metadata": {},
     "output_type": "execute_result"
    }
   ],
   "source": [
    "df.dtypes"
   ]
  },
  {
   "cell_type": "code",
   "execution_count": 80,
   "id": "2e8125ed",
   "metadata": {},
   "outputs": [
    {
     "data": {
      "text/plain": [
       "Timestamp('2018-06-01 00:00:00')"
      ]
     },
     "execution_count": 80,
     "metadata": {},
     "output_type": "execute_result"
    }
   ],
   "source": [
    "df.invoice_date.min()"
   ]
  },
  {
   "cell_type": "code",
   "execution_count": 81,
   "id": "3450428e",
   "metadata": {},
   "outputs": [
    {
     "data": {
      "text/plain": [
       "Timestamp('2021-09-28 00:00:00')"
      ]
     },
     "execution_count": 81,
     "metadata": {},
     "output_type": "execute_result"
    }
   ],
   "source": [
    "df.invoice_date.max()"
   ]
  },
  {
   "cell_type": "markdown",
   "id": "016c1344",
   "metadata": {},
   "source": [
    "### B. Convert location zip to int"
   ]
  },
  {
   "cell_type": "code",
   "execution_count": 82,
   "id": "f4136348",
   "metadata": {},
   "outputs": [],
   "source": [
    "df['location_zip'] = df.location_zip.astype(int)"
   ]
  },
  {
   "cell_type": "code",
   "execution_count": 83,
   "id": "1233e93f",
   "metadata": {
    "scrolled": true
   },
   "outputs": [
    {
     "data": {
      "text/plain": [
       "invoice_date       datetime64[ns]\n",
       "invoice_number     object        \n",
       "location_zip       int32         \n",
       "total              float64       \n",
       "completion_date    object        \n",
       "dtype: object"
      ]
     },
     "execution_count": 83,
     "metadata": {},
     "output_type": "execute_result"
    }
   ],
   "source": [
    "df.dtypes"
   ]
  },
  {
   "cell_type": "markdown",
   "id": "7b0283d3",
   "metadata": {},
   "source": [
    "## 3. Data Exploration"
   ]
  },
  {
   "cell_type": "markdown",
   "id": "329cda7e",
   "metadata": {},
   "source": [
    "### A. How many zip codes do we service?"
   ]
  },
  {
   "cell_type": "code",
   "execution_count": 84,
   "id": "c516d5c5",
   "metadata": {},
   "outputs": [
    {
     "data": {
      "text/plain": [
       "array([ 80923,  80906,  80907,  80919,  80920,  80905,  80924,  80922,\n",
       "        80921,  80904,  80909,  80132,  80908,  80817,  80916,  80918,\n",
       "        80903,  80106,  80925,  80831,  80911,  80109,  80917,  81001,\n",
       "        80915,  80927,  80829,  80951,  80910,  80133,  80939,  80929,\n",
       "        80863,  80809,  81007,  80926,  80118,  81005,  80938,  80123,\n",
       "       808017,  80112,  80212,  80246,  78108,  81008,  80027,   8017,\n",
       "       880951,  80937,  22205,  80928,  33308,  81006])"
      ]
     },
     "execution_count": 84,
     "metadata": {},
     "output_type": "execute_result"
    }
   ],
   "source": [
    "df['location_zip'].unique()"
   ]
  },
  {
   "cell_type": "code",
   "execution_count": 85,
   "id": "9ee1e98d",
   "metadata": {},
   "outputs": [
    {
     "data": {
      "text/plain": [
       "54"
      ]
     },
     "execution_count": 85,
     "metadata": {},
     "output_type": "execute_result"
    }
   ],
   "source": [
    "len(df['location_zip'].unique())"
   ]
  },
  {
   "cell_type": "markdown",
   "id": "2b95782a",
   "metadata": {},
   "source": [
    "### B. How many jobs completed per zip?"
   ]
  },
  {
   "cell_type": "code",
   "execution_count": 86,
   "id": "e02af30f",
   "metadata": {
    "scrolled": false
   },
   "outputs": [
    {
     "data": {
      "text/html": [
       "<div>\n",
       "<style scoped>\n",
       "    .dataframe tbody tr th:only-of-type {\n",
       "        vertical-align: middle;\n",
       "    }\n",
       "\n",
       "    .dataframe tbody tr th {\n",
       "        vertical-align: top;\n",
       "    }\n",
       "\n",
       "    .dataframe thead th {\n",
       "        text-align: right;\n",
       "    }\n",
       "</style>\n",
       "<table border=\"1\" class=\"dataframe\">\n",
       "  <thead>\n",
       "    <tr style=\"text-align: right;\">\n",
       "      <th></th>\n",
       "      <th>location_zip</th>\n",
       "      <th>frequency_count</th>\n",
       "    </tr>\n",
       "  </thead>\n",
       "  <tbody>\n",
       "    <tr>\n",
       "      <th>32</th>\n",
       "      <td>80919</td>\n",
       "      <td>1653</td>\n",
       "    </tr>\n",
       "    <tr>\n",
       "      <th>33</th>\n",
       "      <td>80920</td>\n",
       "      <td>1641</td>\n",
       "    </tr>\n",
       "    <tr>\n",
       "      <th>34</th>\n",
       "      <td>80921</td>\n",
       "      <td>1309</td>\n",
       "    </tr>\n",
       "    <tr>\n",
       "      <th>10</th>\n",
       "      <td>80132</td>\n",
       "      <td>1268</td>\n",
       "    </tr>\n",
       "    <tr>\n",
       "      <th>22</th>\n",
       "      <td>80906</td>\n",
       "      <td>1236</td>\n",
       "    </tr>\n",
       "  </tbody>\n",
       "</table>\n",
       "</div>"
      ],
      "text/plain": [
       "    location_zip  frequency_count\n",
       "32  80919         1653           \n",
       "33  80920         1641           \n",
       "34  80921         1309           \n",
       "10  80132         1268           \n",
       "22  80906         1236           "
      ]
     },
     "execution_count": 86,
     "metadata": {},
     "output_type": "execute_result"
    }
   ],
   "source": [
    "# How many jobs were completed by zip?\n",
    "frequency = df.groupby('location_zip').invoice_number.count().reset_index().sort_values('invoice_number', ascending=False)\n",
    "# Update column name\n",
    "frequency = frequency.rename(columns={'invoice_number': 'frequency_count'})\n",
    "frequency.head()"
   ]
  },
  {
   "cell_type": "markdown",
   "id": "adf436ca",
   "metadata": {},
   "source": [
    "### C. How much money was spent per zip?"
   ]
  },
  {
   "cell_type": "code",
   "execution_count": 87,
   "id": "edd61f7d",
   "metadata": {
    "scrolled": true
   },
   "outputs": [
    {
     "data": {
      "text/html": [
       "<div>\n",
       "<style scoped>\n",
       "    .dataframe tbody tr th:only-of-type {\n",
       "        vertical-align: middle;\n",
       "    }\n",
       "\n",
       "    .dataframe tbody tr th {\n",
       "        vertical-align: top;\n",
       "    }\n",
       "\n",
       "    .dataframe thead th {\n",
       "        text-align: right;\n",
       "    }\n",
       "</style>\n",
       "<table border=\"1\" class=\"dataframe\">\n",
       "  <thead>\n",
       "    <tr style=\"text-align: right;\">\n",
       "      <th></th>\n",
       "      <th>location_zip</th>\n",
       "      <th>monetary_sum</th>\n",
       "    </tr>\n",
       "  </thead>\n",
       "  <tbody>\n",
       "    <tr>\n",
       "      <th>32</th>\n",
       "      <td>80919</td>\n",
       "      <td>489861.74</td>\n",
       "    </tr>\n",
       "    <tr>\n",
       "      <th>33</th>\n",
       "      <td>80920</td>\n",
       "      <td>466744.75</td>\n",
       "    </tr>\n",
       "    <tr>\n",
       "      <th>22</th>\n",
       "      <td>80906</td>\n",
       "      <td>449015.50</td>\n",
       "    </tr>\n",
       "    <tr>\n",
       "      <th>34</th>\n",
       "      <td>80921</td>\n",
       "      <td>347282.33</td>\n",
       "    </tr>\n",
       "    <tr>\n",
       "      <th>10</th>\n",
       "      <td>80132</td>\n",
       "      <td>311673.35</td>\n",
       "    </tr>\n",
       "  </tbody>\n",
       "</table>\n",
       "</div>"
      ],
      "text/plain": [
       "    location_zip  monetary_sum\n",
       "32  80919         489861.74   \n",
       "33  80920         466744.75   \n",
       "22  80906         449015.50   \n",
       "34  80921         347282.33   \n",
       "10  80132         311673.35   "
      ]
     },
     "execution_count": 87,
     "metadata": {},
     "output_type": "execute_result"
    }
   ],
   "source": [
    "# How much money was spent by zip?\n",
    "monetary = df.groupby('location_zip').total.sum().reset_index().sort_values('total', ascending=False)\n",
    "# Update column name\n",
    "monetary = monetary.rename(columns={'total': 'monetary_sum'})\n",
    "monetary.head()"
   ]
  },
  {
   "cell_type": "markdown",
   "id": "2adba728",
   "metadata": {},
   "source": [
    "## 4. Merge df's"
   ]
  },
  {
   "cell_type": "code",
   "execution_count": 88,
   "id": "46b4a96e",
   "metadata": {},
   "outputs": [],
   "source": [
    "df_f_m = frequency.merge(monetary, on='location_zip')"
   ]
  },
  {
   "cell_type": "code",
   "execution_count": 89,
   "id": "9e6eb880",
   "metadata": {},
   "outputs": [
    {
     "data": {
      "text/html": [
       "<div>\n",
       "<style scoped>\n",
       "    .dataframe tbody tr th:only-of-type {\n",
       "        vertical-align: middle;\n",
       "    }\n",
       "\n",
       "    .dataframe tbody tr th {\n",
       "        vertical-align: top;\n",
       "    }\n",
       "\n",
       "    .dataframe thead th {\n",
       "        text-align: right;\n",
       "    }\n",
       "</style>\n",
       "<table border=\"1\" class=\"dataframe\">\n",
       "  <thead>\n",
       "    <tr style=\"text-align: right;\">\n",
       "      <th></th>\n",
       "      <th>location_zip</th>\n",
       "      <th>frequency_count</th>\n",
       "      <th>monetary_sum</th>\n",
       "    </tr>\n",
       "  </thead>\n",
       "  <tbody>\n",
       "    <tr>\n",
       "      <th>0</th>\n",
       "      <td>80919</td>\n",
       "      <td>1653</td>\n",
       "      <td>489861.74</td>\n",
       "    </tr>\n",
       "    <tr>\n",
       "      <th>1</th>\n",
       "      <td>80920</td>\n",
       "      <td>1641</td>\n",
       "      <td>466744.75</td>\n",
       "    </tr>\n",
       "    <tr>\n",
       "      <th>2</th>\n",
       "      <td>80921</td>\n",
       "      <td>1309</td>\n",
       "      <td>347282.33</td>\n",
       "    </tr>\n",
       "    <tr>\n",
       "      <th>3</th>\n",
       "      <td>80132</td>\n",
       "      <td>1268</td>\n",
       "      <td>311673.35</td>\n",
       "    </tr>\n",
       "    <tr>\n",
       "      <th>4</th>\n",
       "      <td>80906</td>\n",
       "      <td>1236</td>\n",
       "      <td>449015.50</td>\n",
       "    </tr>\n",
       "  </tbody>\n",
       "</table>\n",
       "</div>"
      ],
      "text/plain": [
       "   location_zip  frequency_count  monetary_sum\n",
       "0  80919         1653             489861.74   \n",
       "1  80920         1641             466744.75   \n",
       "2  80921         1309             347282.33   \n",
       "3  80132         1268             311673.35   \n",
       "4  80906         1236             449015.50   "
      ]
     },
     "execution_count": 89,
     "metadata": {},
     "output_type": "execute_result"
    }
   ],
   "source": [
    "df_f_m.head()"
   ]
  },
  {
   "cell_type": "markdown",
   "id": "03328556",
   "metadata": {},
   "source": [
    "## 5. Rank each zip based on Frequency and Monetary value"
   ]
  },
  {
   "cell_type": "code",
   "execution_count": 90,
   "id": "00926484",
   "metadata": {},
   "outputs": [],
   "source": [
    "df_f_m['f_percentile'] = df_f_m['frequency_count'].rank(method='first', pct=True,ascending=True)\n",
    "df_f_m['f_score'] = pd.qcut(df_f_m['f_percentile'], 4, labels=range(4,0,-1))\n",
    "df_f_m['m_percentile'] = df_f_m['monetary_sum'].rank(method='first', pct=True,ascending=True)\n",
    "df_f_m['m_score'] = pd.qcut(df_f_m['m_percentile'], 4, labels=range(4,0,-1))"
   ]
  },
  {
   "cell_type": "code",
   "execution_count": 91,
   "id": "f0e2ef25",
   "metadata": {
    "scrolled": false
   },
   "outputs": [
    {
     "data": {
      "text/html": [
       "<div>\n",
       "<style scoped>\n",
       "    .dataframe tbody tr th:only-of-type {\n",
       "        vertical-align: middle;\n",
       "    }\n",
       "\n",
       "    .dataframe tbody tr th {\n",
       "        vertical-align: top;\n",
       "    }\n",
       "\n",
       "    .dataframe thead th {\n",
       "        text-align: right;\n",
       "    }\n",
       "</style>\n",
       "<table border=\"1\" class=\"dataframe\">\n",
       "  <thead>\n",
       "    <tr style=\"text-align: right;\">\n",
       "      <th></th>\n",
       "      <th>location_zip</th>\n",
       "      <th>frequency_count</th>\n",
       "      <th>monetary_sum</th>\n",
       "      <th>f_percentile</th>\n",
       "      <th>f_score</th>\n",
       "      <th>m_percentile</th>\n",
       "      <th>m_score</th>\n",
       "    </tr>\n",
       "  </thead>\n",
       "  <tbody>\n",
       "    <tr>\n",
       "      <th>0</th>\n",
       "      <td>80919</td>\n",
       "      <td>1653</td>\n",
       "      <td>489861.74</td>\n",
       "      <td>1.0</td>\n",
       "      <td>1</td>\n",
       "      <td>1.0</td>\n",
       "      <td>1</td>\n",
       "    </tr>\n",
       "  </tbody>\n",
       "</table>\n",
       "</div>"
      ],
      "text/plain": [
       "   location_zip  frequency_count  monetary_sum  f_percentile f_score  \\\n",
       "0  80919         1653             489861.74     1.0           1        \n",
       "\n",
       "   m_percentile m_score  \n",
       "0  1.0           1       "
      ]
     },
     "execution_count": 91,
     "metadata": {},
     "output_type": "execute_result"
    }
   ],
   "source": [
    "df_f_m.head(1)"
   ]
  },
  {
   "cell_type": "code",
   "execution_count": 92,
   "id": "626918d7",
   "metadata": {},
   "outputs": [],
   "source": [
    "# Drop unneeded columns\n",
    "columns_drop = ['f_percentile', 'm_percentile']\n",
    "df_f_m.drop(columns_drop, inplace=True, axis=1)"
   ]
  },
  {
   "cell_type": "code",
   "execution_count": 93,
   "id": "4862a312",
   "metadata": {},
   "outputs": [
    {
     "data": {
      "text/html": [
       "<div>\n",
       "<style scoped>\n",
       "    .dataframe tbody tr th:only-of-type {\n",
       "        vertical-align: middle;\n",
       "    }\n",
       "\n",
       "    .dataframe tbody tr th {\n",
       "        vertical-align: top;\n",
       "    }\n",
       "\n",
       "    .dataframe thead th {\n",
       "        text-align: right;\n",
       "    }\n",
       "</style>\n",
       "<table border=\"1\" class=\"dataframe\">\n",
       "  <thead>\n",
       "    <tr style=\"text-align: right;\">\n",
       "      <th></th>\n",
       "      <th>location_zip</th>\n",
       "      <th>frequency_count</th>\n",
       "      <th>monetary_sum</th>\n",
       "      <th>f_score</th>\n",
       "      <th>m_score</th>\n",
       "    </tr>\n",
       "  </thead>\n",
       "  <tbody>\n",
       "    <tr>\n",
       "      <th>0</th>\n",
       "      <td>80919</td>\n",
       "      <td>1653</td>\n",
       "      <td>489861.74</td>\n",
       "      <td>1</td>\n",
       "      <td>1</td>\n",
       "    </tr>\n",
       "  </tbody>\n",
       "</table>\n",
       "</div>"
      ],
      "text/plain": [
       "   location_zip  frequency_count  monetary_sum f_score m_score\n",
       "0  80919         1653             489861.74     1       1     "
      ]
     },
     "execution_count": 93,
     "metadata": {},
     "output_type": "execute_result"
    }
   ],
   "source": [
    "df_f_m.head(1)"
   ]
  },
  {
   "cell_type": "code",
   "execution_count": 94,
   "id": "724d5b25",
   "metadata": {},
   "outputs": [],
   "source": [
    "df_f_m['score_total'] = df_f_m['f_score'].astype(int) + df_f_m['m_score'].astype(int)"
   ]
  },
  {
   "cell_type": "code",
   "execution_count": 95,
   "id": "29618da1",
   "metadata": {},
   "outputs": [
    {
     "data": {
      "text/html": [
       "<div>\n",
       "<style scoped>\n",
       "    .dataframe tbody tr th:only-of-type {\n",
       "        vertical-align: middle;\n",
       "    }\n",
       "\n",
       "    .dataframe tbody tr th {\n",
       "        vertical-align: top;\n",
       "    }\n",
       "\n",
       "    .dataframe thead th {\n",
       "        text-align: right;\n",
       "    }\n",
       "</style>\n",
       "<table border=\"1\" class=\"dataframe\">\n",
       "  <thead>\n",
       "    <tr style=\"text-align: right;\">\n",
       "      <th></th>\n",
       "      <th>location_zip</th>\n",
       "      <th>frequency_count</th>\n",
       "      <th>monetary_sum</th>\n",
       "      <th>f_score</th>\n",
       "      <th>m_score</th>\n",
       "      <th>score_total</th>\n",
       "    </tr>\n",
       "  </thead>\n",
       "  <tbody>\n",
       "    <tr>\n",
       "      <th>0</th>\n",
       "      <td>80919</td>\n",
       "      <td>1653</td>\n",
       "      <td>489861.74</td>\n",
       "      <td>1</td>\n",
       "      <td>1</td>\n",
       "      <td>2</td>\n",
       "    </tr>\n",
       "  </tbody>\n",
       "</table>\n",
       "</div>"
      ],
      "text/plain": [
       "   location_zip  frequency_count  monetary_sum f_score m_score  score_total\n",
       "0  80919         1653             489861.74     1       1       2          "
      ]
     },
     "execution_count": 95,
     "metadata": {},
     "output_type": "execute_result"
    }
   ],
   "source": [
    "df_f_m.head(1)"
   ]
  },
  {
   "cell_type": "markdown",
   "id": "99c2c9be",
   "metadata": {},
   "source": [
    "## 6. Label each zip based on rank"
   ]
  },
  {
   "cell_type": "code",
   "execution_count": 96,
   "id": "1592edb3",
   "metadata": {},
   "outputs": [],
   "source": [
    "# Define label function\n",
    "def level(df):\n",
    "    if df['score_total'] == 2:\n",
    "        return 'Top'\n",
    "    elif ((df['score_total'] >= 3) and (df['score_total'] <= 4)):\n",
    "        return 'Mid'\n",
    "    elif ((df['score_total'] >= 5) ):\n",
    "        return 'Low'"
   ]
  },
  {
   "cell_type": "code",
   "execution_count": 97,
   "id": "8573b40a",
   "metadata": {},
   "outputs": [
    {
     "data": {
      "text/html": [
       "<div>\n",
       "<style scoped>\n",
       "    .dataframe tbody tr th:only-of-type {\n",
       "        vertical-align: middle;\n",
       "    }\n",
       "\n",
       "    .dataframe tbody tr th {\n",
       "        vertical-align: top;\n",
       "    }\n",
       "\n",
       "    .dataframe thead th {\n",
       "        text-align: right;\n",
       "    }\n",
       "</style>\n",
       "<table border=\"1\" class=\"dataframe\">\n",
       "  <thead>\n",
       "    <tr style=\"text-align: right;\">\n",
       "      <th></th>\n",
       "      <th>location_zip</th>\n",
       "      <th>frequency_count</th>\n",
       "      <th>monetary_sum</th>\n",
       "      <th>f_score</th>\n",
       "      <th>m_score</th>\n",
       "      <th>score_total</th>\n",
       "      <th>label</th>\n",
       "    </tr>\n",
       "  </thead>\n",
       "  <tbody>\n",
       "    <tr>\n",
       "      <th>0</th>\n",
       "      <td>80919</td>\n",
       "      <td>1653</td>\n",
       "      <td>489861.74</td>\n",
       "      <td>1</td>\n",
       "      <td>1</td>\n",
       "      <td>2</td>\n",
       "      <td>Top</td>\n",
       "    </tr>\n",
       "    <tr>\n",
       "      <th>1</th>\n",
       "      <td>80920</td>\n",
       "      <td>1641</td>\n",
       "      <td>466744.75</td>\n",
       "      <td>1</td>\n",
       "      <td>1</td>\n",
       "      <td>2</td>\n",
       "      <td>Top</td>\n",
       "    </tr>\n",
       "    <tr>\n",
       "      <th>2</th>\n",
       "      <td>80921</td>\n",
       "      <td>1309</td>\n",
       "      <td>347282.33</td>\n",
       "      <td>1</td>\n",
       "      <td>1</td>\n",
       "      <td>2</td>\n",
       "      <td>Top</td>\n",
       "    </tr>\n",
       "    <tr>\n",
       "      <th>3</th>\n",
       "      <td>80132</td>\n",
       "      <td>1268</td>\n",
       "      <td>311673.35</td>\n",
       "      <td>1</td>\n",
       "      <td>1</td>\n",
       "      <td>2</td>\n",
       "      <td>Top</td>\n",
       "    </tr>\n",
       "    <tr>\n",
       "      <th>4</th>\n",
       "      <td>80906</td>\n",
       "      <td>1236</td>\n",
       "      <td>449015.50</td>\n",
       "      <td>1</td>\n",
       "      <td>1</td>\n",
       "      <td>2</td>\n",
       "      <td>Top</td>\n",
       "    </tr>\n",
       "  </tbody>\n",
       "</table>\n",
       "</div>"
      ],
      "text/plain": [
       "   location_zip  frequency_count  monetary_sum f_score m_score  score_total  \\\n",
       "0  80919         1653             489861.74     1       1       2             \n",
       "1  80920         1641             466744.75     1       1       2             \n",
       "2  80921         1309             347282.33     1       1       2             \n",
       "3  80132         1268             311673.35     1       1       2             \n",
       "4  80906         1236             449015.50     1       1       2             \n",
       "\n",
       "  label  \n",
       "0  Top   \n",
       "1  Top   \n",
       "2  Top   \n",
       "3  Top   \n",
       "4  Top   "
      ]
     },
     "execution_count": 97,
     "metadata": {},
     "output_type": "execute_result"
    }
   ],
   "source": [
    "# Apply label function\n",
    "df_f_m['label'] = df_f_m.apply(level, axis=1)\n",
    "df_f_m.head() "
   ]
  },
  {
   "cell_type": "markdown",
   "id": "2353bbca",
   "metadata": {},
   "source": [
    "## 7. Plot"
   ]
  },
  {
   "cell_type": "code",
   "execution_count": 98,
   "id": "eb53c81c",
   "metadata": {
    "scrolled": false
   },
   "outputs": [
    {
     "data": {
      "image/png": "[encoded data removed]",
      "text/plain": [
       "<Figure size 432x288 with 1 Axes>"
      ]
     },
     "metadata": {
      "needs_background": "light"
     },
     "output_type": "display_data"
    }
   ],
   "source": [
    "# Plot lables\n",
    "ax = df_f_m['label'].value_counts().plot(kind='bar', fontsize=12)\n",
    "ax.set_ylabel(\"Count\", fontsize=12)\n",
    "plt.xticks(rotation=0)\n",
    "plt.show()"
   ]
  },
  {
   "cell_type": "code",
   "execution_count": 99,
   "id": "040fba53",
   "metadata": {},
   "outputs": [
    {
     "data": {
      "text/plain": [
       "<seaborn.axisgrid.FacetGrid at 0x2a9f8758be0>"
      ]
     },
     "execution_count": 99,
     "metadata": {},
     "output_type": "execute_result"
    },
    {
     "data": {
      "image/png": "[encoded data removed]",
      "text/plain": [
       "<Figure size 415.5x360 with 1 Axes>"
      ]
     },
     "metadata": {
      "needs_background": "light"
     },
     "output_type": "display_data"
    }
   ],
   "source": [
    "# Plot frequency count histogram by zip and label\n",
    "sns.displot(data=df_f_m, x='frequency_count', hue=\"label\", multiple=\"stack\")"
   ]
  },
  {
   "cell_type": "code",
   "execution_count": 100,
   "id": "ed0e2544",
   "metadata": {
    "scrolled": false
   },
   "outputs": [
    {
     "data": {
      "text/plain": [
       "<seaborn.axisgrid.FacetGrid at 0x2a9f8f59490>"
      ]
     },
     "execution_count": 100,
     "metadata": {},
     "output_type": "execute_result"
    },
    {
     "data": {
      "image/png": "[encoded data removed]",
      "text/plain": [
       "<Figure size 415.5x360 with 1 Axes>"
      ]
     },
     "metadata": {
      "needs_background": "light"
     },
     "output_type": "display_data"
    }
   ],
   "source": [
    "# Plot monetary sum histogram by zip and label. \n",
    "sns.displot(data=df_f_m, x='monetary_sum', hue=\"label\", multiple=\"stack\")"
   ]
  },
  {
   "cell_type": "code",
   "execution_count": 101,
   "id": "3d2d60d9",
   "metadata": {},
   "outputs": [
    {
     "name": "stdout",
     "output_type": "stream",
     "text": [
      "\n",
      " Top \n",
      "        frequency_count   monetary_sum\n",
      "count  13.000000        13.000000    \n",
      "mean   954.000000       260733.710769\n",
      "std    428.880325       139281.869094\n",
      "min    426.000000       111282.800000\n",
      "25%    578.000000       149281.950000\n",
      "50%    822.000000       201730.410000\n",
      "75%    1268.000000      347282.330000\n",
      "max    1653.000000      489861.740000\n",
      "\n",
      " Mid \n",
      "        frequency_count   monetary_sum\n",
      "count  13.000000        13.000000    \n",
      "mean   236.538462       59642.432308 \n",
      "std    112.938490       29209.167428 \n",
      "min    61.000000        16247.900000 \n",
      "25%    153.000000       37946.950000 \n",
      "50%    235.000000       62986.550000 \n",
      "75%    288.000000       71012.550000 \n",
      "max    457.000000       113023.450000\n",
      "\n",
      " Low \n",
      "        frequency_count  monetary_sum\n",
      "count  28.000000        28.000000   \n",
      "mean   7.000000         2175.607143 \n",
      "std    9.305514         3101.155241 \n",
      "min    1.000000         49.000000   \n",
      "25%    1.000000         115.962500  \n",
      "50%    2.000000         338.000000  \n",
      "75%    8.750000         3186.050000 \n",
      "max    36.000000        9276.350000 \n"
     ]
    }
   ],
   "source": [
    "# Statistics of each group\n",
    "groups = df_f_m.label.unique()\n",
    "groups\n",
    "\n",
    "for group in groups:\n",
    "    base = df_f_m[df_f_m.label==group]\n",
    "    describe = base.describe()[['frequency_count', 'monetary_sum']]\n",
    "    print('\\n', group, '\\n', describe)"
   ]
  },
  {
   "cell_type": "markdown",
   "id": "c6ec8c2d",
   "metadata": {},
   "source": [
    "## 7. Save Data"
   ]
  },
  {
   "cell_type": "code",
   "execution_count": 102,
   "id": "bdab0a36",
   "metadata": {},
   "outputs": [],
   "source": [
    "df_f_m.to_csv(\"zip_f_m.csv\", encoding='utf-8', index=False)"
   ]
  }
 ],
 "metadata": {
  "kernelspec": {
   "display_name": "Python 3",
   "language": "python",
   "name": "python3"
  },
  "language_info": {
   "codemirror_mode": {
    "name": "ipython",
    "version": 3
   },
   "file_extension": ".py",
   "mimetype": "text/x-python",
   "name": "python",
   "nbconvert_exporter": "python",
   "pygments_lexer": "ipython3",
   "version": "3.8.8"
  }
 },
 "nbformat": 4,
 "nbformat_minor": 5
}
