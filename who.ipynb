{
 "cells": [
  {
   "cell_type": "markdown",
   "id": "71b45ba5",
   "metadata": {},
   "source": [
    "# Who Are Our Top Performing Zip Codes According To CRM Data?\n",
    "---\n",
    "### Summary\n",
    "    1. Import Modules and Data\n",
    "    2. Clean Data\n",
    "        A. Convert/Index/Sort Data By 'datetime'\n",
    "        B. Convert location zip to int\n",
    "    3. Data Exploration\n",
    "        A. How many jobs completed per zip?\n",
    "        B. How much money was spent per zip?\n",
    "    4. Merge Frequency df and Monetary df\n",
    "    5. Rank each zip based on Frequency and Monetary value\n",
    "    6. Label each zip based on rank\n",
    "    7. Save Data\n",
    "      \n",
    "    \n",
    "        \n"
   ]
  },
  {
   "cell_type": "markdown",
   "id": "7115c31f",
   "metadata": {},
   "source": [
    "## 1. Import Modules and Data"
   ]
  },
  {
   "cell_type": "code",
   "execution_count": 165,
   "id": "e7ad3f70",
   "metadata": {},
   "outputs": [
    {
     "name": "stderr",
     "output_type": "stream",
     "text": [
      "<ipython-input-165-0c0ebdbb546a>:15: FutureWarning: Passing a negative integer is deprecated in version 1.0 and will not be supported in future version. Instead, use None to not limit the column width.\n",
      "  pd.set_option('display.max_colwidth', -1)\n"
     ]
    }
   ],
   "source": [
    "import pandas as pd\n",
    "import numpy as np\n",
    "import datetime\n",
    "from datetime import date\n",
    "import matplotlib.pyplot as plt\n",
    "%matplotlib inline\n",
    "import seaborn as sns\n",
    "\n",
    "# disable chained assignments\n",
    "pd.options.mode.chained_assignment = None\n",
    "\n",
    "# See all data\n",
    "pd.set_option('display.max_columns', None)\n",
    "pd.set_option('display.max_rows', None)\n",
    "pd.set_option('display.max_colwidth', -1)"
   ]
  },
  {
   "cell_type": "code",
   "execution_count": 166,
   "id": "b8d2cf59",
   "metadata": {},
   "outputs": [],
   "source": [
    "df = pd.read_csv(\"clean_crm_data.csv\")"
   ]
  },
  {
   "cell_type": "code",
   "execution_count": 167,
   "id": "39a0baeb",
   "metadata": {},
   "outputs": [
    {
     "data": {
      "text/html": [
       "<div>\n",
       "<style scoped>\n",
       "    .dataframe tbody tr th:only-of-type {\n",
       "        vertical-align: middle;\n",
       "    }\n",
       "\n",
       "    .dataframe tbody tr th {\n",
       "        vertical-align: top;\n",
       "    }\n",
       "\n",
       "    .dataframe thead th {\n",
       "        text-align: right;\n",
       "    }\n",
       "</style>\n",
       "<table border=\"1\" class=\"dataframe\">\n",
       "  <thead>\n",
       "    <tr style=\"text-align: right;\">\n",
       "      <th></th>\n",
       "      <th>invoice_date</th>\n",
       "      <th>invoice_number</th>\n",
       "      <th>location_zip</th>\n",
       "      <th>total</th>\n",
       "      <th>completion_date</th>\n",
       "    </tr>\n",
       "  </thead>\n",
       "  <tbody>\n",
       "    <tr>\n",
       "      <th>0</th>\n",
       "      <td>2021-01-15</td>\n",
       "      <td>18969046</td>\n",
       "      <td>80917.0</td>\n",
       "      <td>49.0</td>\n",
       "      <td>2021-01-15</td>\n",
       "    </tr>\n",
       "  </tbody>\n",
       "</table>\n",
       "</div>"
      ],
      "text/plain": [
       "  invoice_date invoice_number  location_zip  total completion_date\n",
       "0  2021-01-15   18969046       80917.0       49.0   2021-01-15    "
      ]
     },
     "execution_count": 167,
     "metadata": {},
     "output_type": "execute_result"
    }
   ],
   "source": [
    "df.head(1)"
   ]
  },
  {
   "cell_type": "code",
   "execution_count": 168,
   "id": "c42bd02f",
   "metadata": {},
   "outputs": [
    {
     "name": "stdout",
     "output_type": "stream",
     "text": [
      "<class 'pandas.core.frame.DataFrame'>\n",
      "RangeIndex: 15673 entries, 0 to 15672\n",
      "Data columns (total 5 columns):\n",
      " #   Column           Non-Null Count  Dtype  \n",
      "---  ------           --------------  -----  \n",
      " 0   invoice_date     15673 non-null  object \n",
      " 1   invoice_number   15673 non-null  object \n",
      " 2   location_zip     15673 non-null  float64\n",
      " 3   total            15673 non-null  float64\n",
      " 4   completion_date  15673 non-null  object \n",
      "dtypes: float64(2), object(3)\n",
      "memory usage: 612.4+ KB\n"
     ]
    }
   ],
   "source": [
    "df.info()"
   ]
  },
  {
   "cell_type": "markdown",
   "id": "6d2b2240",
   "metadata": {},
   "source": [
    "## Clean Data"
   ]
  },
  {
   "cell_type": "markdown",
   "id": "1773afbe",
   "metadata": {},
   "source": [
    "### A. Convert/Index/Sort Data By 'datetime'"
   ]
  },
  {
   "cell_type": "code",
   "execution_count": 169,
   "id": "07c2cba8",
   "metadata": {},
   "outputs": [],
   "source": [
    "# Convert invoice dates to pd date time\n",
    "df['invoice_date'] = pd.to_datetime(df.invoice_date)\n",
    "\n",
    "# Index DF with 'invoice_date' and sort ascending\n",
    "df = df.sort_values(by='invoice_date', ascending=False)\n",
    "df = df.set_index(df['invoice_date'])"
   ]
  },
  {
   "cell_type": "code",
   "execution_count": 170,
   "id": "2ec60cb7",
   "metadata": {},
   "outputs": [
    {
     "data": {
      "text/plain": [
       "invoice_date       datetime64[ns]\n",
       "invoice_number     object        \n",
       "location_zip       float64       \n",
       "total              float64       \n",
       "completion_date    object        \n",
       "dtype: object"
      ]
     },
     "execution_count": 170,
     "metadata": {},
     "output_type": "execute_result"
    }
   ],
   "source": [
    "df.dtypes"
   ]
  },
  {
   "cell_type": "code",
   "execution_count": 171,
   "id": "2e8125ed",
   "metadata": {},
   "outputs": [
    {
     "data": {
      "text/plain": [
       "Timestamp('2018-06-01 00:00:00')"
      ]
     },
     "execution_count": 171,
     "metadata": {},
     "output_type": "execute_result"
    }
   ],
   "source": [
    "df.invoice_date.min()"
   ]
  },
  {
   "cell_type": "code",
   "execution_count": 172,
   "id": "3450428e",
   "metadata": {},
   "outputs": [
    {
     "data": {
      "text/plain": [
       "Timestamp('2021-09-28 00:00:00')"
      ]
     },
     "execution_count": 172,
     "metadata": {},
     "output_type": "execute_result"
    }
   ],
   "source": [
    "df.invoice_date.max()"
   ]
  },
  {
   "cell_type": "markdown",
   "id": "016c1344",
   "metadata": {},
   "source": [
    "### B. Convert location zip to int"
   ]
  },
  {
   "cell_type": "code",
   "execution_count": 173,
   "id": "f4136348",
   "metadata": {},
   "outputs": [],
   "source": [
    "df['location_zip'] = df.location_zip.astype(int)"
   ]
  },
  {
   "cell_type": "code",
   "execution_count": 174,
   "id": "1233e93f",
   "metadata": {
    "scrolled": true
   },
   "outputs": [
    {
     "data": {
      "text/plain": [
       "invoice_date       datetime64[ns]\n",
       "invoice_number     object        \n",
       "location_zip       int32         \n",
       "total              float64       \n",
       "completion_date    object        \n",
       "dtype: object"
      ]
     },
     "execution_count": 174,
     "metadata": {},
     "output_type": "execute_result"
    }
   ],
   "source": [
    "df.dtypes"
   ]
  },
  {
   "cell_type": "markdown",
   "id": "7b0283d3",
   "metadata": {},
   "source": [
    "## 3. Data Exploration"
   ]
  },
  {
   "cell_type": "markdown",
   "id": "5c543c71",
   "metadata": {},
   "source": [
    "### A. How many jobs completed per zip?"
   ]
  },
  {
   "cell_type": "code",
   "execution_count": 175,
   "id": "e02af30f",
   "metadata": {
    "scrolled": false
   },
   "outputs": [
    {
     "data": {
      "text/html": [
       "<div>\n",
       "<style scoped>\n",
       "    .dataframe tbody tr th:only-of-type {\n",
       "        vertical-align: middle;\n",
       "    }\n",
       "\n",
       "    .dataframe tbody tr th {\n",
       "        vertical-align: top;\n",
       "    }\n",
       "\n",
       "    .dataframe thead th {\n",
       "        text-align: right;\n",
       "    }\n",
       "</style>\n",
       "<table border=\"1\" class=\"dataframe\">\n",
       "  <thead>\n",
       "    <tr style=\"text-align: right;\">\n",
       "      <th></th>\n",
       "      <th>location_zip</th>\n",
       "      <th>invoice_number</th>\n",
       "    </tr>\n",
       "  </thead>\n",
       "  <tbody>\n",
       "    <tr>\n",
       "      <th>32</th>\n",
       "      <td>80919</td>\n",
       "      <td>1653</td>\n",
       "    </tr>\n",
       "    <tr>\n",
       "      <th>33</th>\n",
       "      <td>80920</td>\n",
       "      <td>1641</td>\n",
       "    </tr>\n",
       "    <tr>\n",
       "      <th>34</th>\n",
       "      <td>80921</td>\n",
       "      <td>1309</td>\n",
       "    </tr>\n",
       "    <tr>\n",
       "      <th>10</th>\n",
       "      <td>80132</td>\n",
       "      <td>1268</td>\n",
       "    </tr>\n",
       "    <tr>\n",
       "      <th>22</th>\n",
       "      <td>80906</td>\n",
       "      <td>1236</td>\n",
       "    </tr>\n",
       "  </tbody>\n",
       "</table>\n",
       "</div>"
      ],
      "text/plain": [
       "    location_zip  invoice_number\n",
       "32  80919         1653          \n",
       "33  80920         1641          \n",
       "34  80921         1309          \n",
       "10  80132         1268          \n",
       "22  80906         1236          "
      ]
     },
     "execution_count": 175,
     "metadata": {},
     "output_type": "execute_result"
    }
   ],
   "source": [
    "# How many jobs were completed by zip?\n",
    "frequency = df.groupby('location_zip').invoice_number.count().reset_index().sort_values('invoice_number', ascending=False)\n",
    "frequency.head()"
   ]
  },
  {
   "cell_type": "code",
   "execution_count": 176,
   "id": "85fb183a",
   "metadata": {},
   "outputs": [],
   "source": [
    "# Update column name\n",
    "frequency = frequency.rename(columns={'invoice_number': 'frequency_count'})"
   ]
  },
  {
   "cell_type": "code",
   "execution_count": 177,
   "id": "5885e9c6",
   "metadata": {},
   "outputs": [
    {
     "data": {
      "text/plain": [
       "<seaborn.axisgrid.FacetGrid at 0x1a949af1e20>"
      ]
     },
     "execution_count": 177,
     "metadata": {},
     "output_type": "execute_result"
    },
    {
     "data": {
      "image/png": "[encoded data removed]",
      "text/plain": [
       "<Figure size 360x360 with 1 Axes>"
      ]
     },
     "metadata": {
      "needs_background": "light"
     },
     "output_type": "display_data"
    }
   ],
   "source": [
    "sns.displot(data=frequency, x='frequency_count', kde=True)"
   ]
  },
  {
   "cell_type": "markdown",
   "id": "0d3076e3",
   "metadata": {},
   "source": [
    "### B. How much money was spent per zip?"
   ]
  },
  {
   "cell_type": "code",
   "execution_count": 178,
   "id": "edd61f7d",
   "metadata": {
    "scrolled": true
   },
   "outputs": [
    {
     "data": {
      "text/html": [
       "<div>\n",
       "<style scoped>\n",
       "    .dataframe tbody tr th:only-of-type {\n",
       "        vertical-align: middle;\n",
       "    }\n",
       "\n",
       "    .dataframe tbody tr th {\n",
       "        vertical-align: top;\n",
       "    }\n",
       "\n",
       "    .dataframe thead th {\n",
       "        text-align: right;\n",
       "    }\n",
       "</style>\n",
       "<table border=\"1\" class=\"dataframe\">\n",
       "  <thead>\n",
       "    <tr style=\"text-align: right;\">\n",
       "      <th></th>\n",
       "      <th>location_zip</th>\n",
       "      <th>total</th>\n",
       "    </tr>\n",
       "  </thead>\n",
       "  <tbody>\n",
       "    <tr>\n",
       "      <th>32</th>\n",
       "      <td>80919</td>\n",
       "      <td>489861.74</td>\n",
       "    </tr>\n",
       "    <tr>\n",
       "      <th>33</th>\n",
       "      <td>80920</td>\n",
       "      <td>466744.75</td>\n",
       "    </tr>\n",
       "    <tr>\n",
       "      <th>22</th>\n",
       "      <td>80906</td>\n",
       "      <td>449015.50</td>\n",
       "    </tr>\n",
       "    <tr>\n",
       "      <th>34</th>\n",
       "      <td>80921</td>\n",
       "      <td>347282.33</td>\n",
       "    </tr>\n",
       "    <tr>\n",
       "      <th>10</th>\n",
       "      <td>80132</td>\n",
       "      <td>311673.35</td>\n",
       "    </tr>\n",
       "  </tbody>\n",
       "</table>\n",
       "</div>"
      ],
      "text/plain": [
       "    location_zip      total\n",
       "32  80919         489861.74\n",
       "33  80920         466744.75\n",
       "22  80906         449015.50\n",
       "34  80921         347282.33\n",
       "10  80132         311673.35"
      ]
     },
     "execution_count": 178,
     "metadata": {},
     "output_type": "execute_result"
    }
   ],
   "source": [
    "monetary = df.groupby('location_zip').total.sum().reset_index().sort_values('total', ascending=False)\n",
    "monetary.head()"
   ]
  },
  {
   "cell_type": "code",
   "execution_count": 179,
   "id": "652627dc",
   "metadata": {},
   "outputs": [],
   "source": [
    "monetary = monetary.rename(columns={'total': 'monetary_sum'})"
   ]
  },
  {
   "cell_type": "code",
   "execution_count": 180,
   "id": "10175876",
   "metadata": {},
   "outputs": [
    {
     "data": {
      "text/plain": [
       "<seaborn.axisgrid.FacetGrid at 0x1a94ae4f9a0>"
      ]
     },
     "execution_count": 180,
     "metadata": {},
     "output_type": "execute_result"
    },
    {
     "data": {
      "image/png": "[encoded data removed]",
      "text/plain": [
       "<Figure size 360x360 with 1 Axes>"
      ]
     },
     "metadata": {
      "needs_background": "light"
     },
     "output_type": "display_data"
    }
   ],
   "source": [
    "sns.displot(data=monetary, x='monetary_sum', kde=True)"
   ]
  },
  {
   "cell_type": "markdown",
   "id": "2adba728",
   "metadata": {},
   "source": [
    "## 4. Merge df's"
   ]
  },
  {
   "cell_type": "code",
   "execution_count": 181,
   "id": "46b4a96e",
   "metadata": {},
   "outputs": [],
   "source": [
    "df_f_m = frequency.merge(monetary, on='location_zip')"
   ]
  },
  {
   "cell_type": "code",
   "execution_count": 182,
   "id": "9e6eb880",
   "metadata": {},
   "outputs": [
    {
     "data": {
      "text/html": [
       "<div>\n",
       "<style scoped>\n",
       "    .dataframe tbody tr th:only-of-type {\n",
       "        vertical-align: middle;\n",
       "    }\n",
       "\n",
       "    .dataframe tbody tr th {\n",
       "        vertical-align: top;\n",
       "    }\n",
       "\n",
       "    .dataframe thead th {\n",
       "        text-align: right;\n",
       "    }\n",
       "</style>\n",
       "<table border=\"1\" class=\"dataframe\">\n",
       "  <thead>\n",
       "    <tr style=\"text-align: right;\">\n",
       "      <th></th>\n",
       "      <th>location_zip</th>\n",
       "      <th>frequency_count</th>\n",
       "      <th>monetary_sum</th>\n",
       "    </tr>\n",
       "  </thead>\n",
       "  <tbody>\n",
       "    <tr>\n",
       "      <th>0</th>\n",
       "      <td>80919</td>\n",
       "      <td>1653</td>\n",
       "      <td>489861.74</td>\n",
       "    </tr>\n",
       "    <tr>\n",
       "      <th>1</th>\n",
       "      <td>80920</td>\n",
       "      <td>1641</td>\n",
       "      <td>466744.75</td>\n",
       "    </tr>\n",
       "    <tr>\n",
       "      <th>2</th>\n",
       "      <td>80921</td>\n",
       "      <td>1309</td>\n",
       "      <td>347282.33</td>\n",
       "    </tr>\n",
       "    <tr>\n",
       "      <th>3</th>\n",
       "      <td>80132</td>\n",
       "      <td>1268</td>\n",
       "      <td>311673.35</td>\n",
       "    </tr>\n",
       "    <tr>\n",
       "      <th>4</th>\n",
       "      <td>80906</td>\n",
       "      <td>1236</td>\n",
       "      <td>449015.50</td>\n",
       "    </tr>\n",
       "  </tbody>\n",
       "</table>\n",
       "</div>"
      ],
      "text/plain": [
       "   location_zip  frequency_count  monetary_sum\n",
       "0  80919         1653             489861.74   \n",
       "1  80920         1641             466744.75   \n",
       "2  80921         1309             347282.33   \n",
       "3  80132         1268             311673.35   \n",
       "4  80906         1236             449015.50   "
      ]
     },
     "execution_count": 182,
     "metadata": {},
     "output_type": "execute_result"
    }
   ],
   "source": [
    "df_f_m.head()"
   ]
  },
  {
   "cell_type": "markdown",
   "id": "03328556",
   "metadata": {},
   "source": [
    "## 5. Rank each zip based on Frequency and Monetary value"
   ]
  },
  {
   "cell_type": "code",
   "execution_count": 183,
   "id": "00926484",
   "metadata": {},
   "outputs": [],
   "source": [
    "df_f_m['f_percentile'] = df_f_m['frequency_count'].rank(method='first', pct=True,ascending=True)\n",
    "df_f_m['f_score'] = pd.qcut(df_f_m['f_percentile'], 4, labels=range(4,0,-1))\n",
    "df_f_m['m_percentile'] = df_f_m['monetary_sum'].rank(method='first', pct=True,ascending=True)\n",
    "df_f_m['m_score'] = pd.qcut(df_f_m['m_percentile'], 4, labels=range(4,0,-1))"
   ]
  },
  {
   "cell_type": "code",
   "execution_count": 184,
   "id": "f0e2ef25",
   "metadata": {
    "scrolled": false
   },
   "outputs": [
    {
     "data": {
      "text/html": [
       "<div>\n",
       "<style scoped>\n",
       "    .dataframe tbody tr th:only-of-type {\n",
       "        vertical-align: middle;\n",
       "    }\n",
       "\n",
       "    .dataframe tbody tr th {\n",
       "        vertical-align: top;\n",
       "    }\n",
       "\n",
       "    .dataframe thead th {\n",
       "        text-align: right;\n",
       "    }\n",
       "</style>\n",
       "<table border=\"1\" class=\"dataframe\">\n",
       "  <thead>\n",
       "    <tr style=\"text-align: right;\">\n",
       "      <th></th>\n",
       "      <th>location_zip</th>\n",
       "      <th>frequency_count</th>\n",
       "      <th>monetary_sum</th>\n",
       "      <th>f_percentile</th>\n",
       "      <th>f_score</th>\n",
       "      <th>m_percentile</th>\n",
       "      <th>m_score</th>\n",
       "    </tr>\n",
       "  </thead>\n",
       "  <tbody>\n",
       "    <tr>\n",
       "      <th>0</th>\n",
       "      <td>80919</td>\n",
       "      <td>1653</td>\n",
       "      <td>489861.74</td>\n",
       "      <td>1.000000</td>\n",
       "      <td>1</td>\n",
       "      <td>1.000000</td>\n",
       "      <td>1</td>\n",
       "    </tr>\n",
       "    <tr>\n",
       "      <th>1</th>\n",
       "      <td>80920</td>\n",
       "      <td>1641</td>\n",
       "      <td>466744.75</td>\n",
       "      <td>0.981481</td>\n",
       "      <td>1</td>\n",
       "      <td>0.981481</td>\n",
       "      <td>1</td>\n",
       "    </tr>\n",
       "    <tr>\n",
       "      <th>2</th>\n",
       "      <td>80921</td>\n",
       "      <td>1309</td>\n",
       "      <td>347282.33</td>\n",
       "      <td>0.962963</td>\n",
       "      <td>1</td>\n",
       "      <td>0.944444</td>\n",
       "      <td>1</td>\n",
       "    </tr>\n",
       "    <tr>\n",
       "      <th>3</th>\n",
       "      <td>80132</td>\n",
       "      <td>1268</td>\n",
       "      <td>311673.35</td>\n",
       "      <td>0.944444</td>\n",
       "      <td>1</td>\n",
       "      <td>0.925926</td>\n",
       "      <td>1</td>\n",
       "    </tr>\n",
       "    <tr>\n",
       "      <th>4</th>\n",
       "      <td>80906</td>\n",
       "      <td>1236</td>\n",
       "      <td>449015.50</td>\n",
       "      <td>0.925926</td>\n",
       "      <td>1</td>\n",
       "      <td>0.962963</td>\n",
       "      <td>1</td>\n",
       "    </tr>\n",
       "  </tbody>\n",
       "</table>\n",
       "</div>"
      ],
      "text/plain": [
       "   location_zip  frequency_count  monetary_sum  f_percentile f_score  \\\n",
       "0  80919         1653             489861.74     1.000000      1        \n",
       "1  80920         1641             466744.75     0.981481      1        \n",
       "2  80921         1309             347282.33     0.962963      1        \n",
       "3  80132         1268             311673.35     0.944444      1        \n",
       "4  80906         1236             449015.50     0.925926      1        \n",
       "\n",
       "   m_percentile m_score  \n",
       "0  1.000000      1       \n",
       "1  0.981481      1       \n",
       "2  0.944444      1       \n",
       "3  0.925926      1       \n",
       "4  0.962963      1       "
      ]
     },
     "execution_count": 184,
     "metadata": {},
     "output_type": "execute_result"
    }
   ],
   "source": [
    "df_f_m.head()"
   ]
  },
  {
   "cell_type": "code",
   "execution_count": 185,
   "id": "d7e1eee8",
   "metadata": {},
   "outputs": [
    {
     "data": {
      "text/html": [
       "<div>\n",
       "<style scoped>\n",
       "    .dataframe tbody tr th:only-of-type {\n",
       "        vertical-align: middle;\n",
       "    }\n",
       "\n",
       "    .dataframe tbody tr th {\n",
       "        vertical-align: top;\n",
       "    }\n",
       "\n",
       "    .dataframe thead th {\n",
       "        text-align: right;\n",
       "    }\n",
       "</style>\n",
       "<table border=\"1\" class=\"dataframe\">\n",
       "  <thead>\n",
       "    <tr style=\"text-align: right;\">\n",
       "      <th></th>\n",
       "      <th>location_zip</th>\n",
       "      <th>frequency_count</th>\n",
       "      <th>monetary_sum</th>\n",
       "      <th>f_percentile</th>\n",
       "      <th>f_score</th>\n",
       "      <th>m_percentile</th>\n",
       "      <th>m_score</th>\n",
       "    </tr>\n",
       "  </thead>\n",
       "  <tbody>\n",
       "    <tr>\n",
       "      <th>49</th>\n",
       "      <td>22205</td>\n",
       "      <td>1</td>\n",
       "      <td>69.00</td>\n",
       "      <td>0.092593</td>\n",
       "      <td>4</td>\n",
       "      <td>0.055556</td>\n",
       "      <td>4</td>\n",
       "    </tr>\n",
       "    <tr>\n",
       "      <th>50</th>\n",
       "      <td>80809</td>\n",
       "      <td>1</td>\n",
       "      <td>121.95</td>\n",
       "      <td>0.111111</td>\n",
       "      <td>4</td>\n",
       "      <td>0.148148</td>\n",
       "      <td>4</td>\n",
       "    </tr>\n",
       "    <tr>\n",
       "      <th>51</th>\n",
       "      <td>80246</td>\n",
       "      <td>1</td>\n",
       "      <td>199.00</td>\n",
       "      <td>0.129630</td>\n",
       "      <td>4</td>\n",
       "      <td>0.185185</td>\n",
       "      <td>4</td>\n",
       "    </tr>\n",
       "    <tr>\n",
       "      <th>52</th>\n",
       "      <td>33308</td>\n",
       "      <td>1</td>\n",
       "      <td>49.00</td>\n",
       "      <td>0.148148</td>\n",
       "      <td>4</td>\n",
       "      <td>0.018519</td>\n",
       "      <td>4</td>\n",
       "    </tr>\n",
       "    <tr>\n",
       "      <th>53</th>\n",
       "      <td>880951</td>\n",
       "      <td>1</td>\n",
       "      <td>74.00</td>\n",
       "      <td>0.166667</td>\n",
       "      <td>4</td>\n",
       "      <td>0.092593</td>\n",
       "      <td>4</td>\n",
       "    </tr>\n",
       "  </tbody>\n",
       "</table>\n",
       "</div>"
      ],
      "text/plain": [
       "    location_zip  frequency_count  monetary_sum  f_percentile f_score  \\\n",
       "49  22205         1                69.00         0.092593      4        \n",
       "50  80809         1                121.95        0.111111      4        \n",
       "51  80246         1                199.00        0.129630      4        \n",
       "52  33308         1                49.00         0.148148      4        \n",
       "53  880951        1                74.00         0.166667      4        \n",
       "\n",
       "    m_percentile m_score  \n",
       "49  0.055556      4       \n",
       "50  0.148148      4       \n",
       "51  0.185185      4       \n",
       "52  0.018519      4       \n",
       "53  0.092593      4       "
      ]
     },
     "execution_count": 185,
     "metadata": {},
     "output_type": "execute_result"
    }
   ],
   "source": [
    "df_f_m.tail()"
   ]
  },
  {
   "cell_type": "code",
   "execution_count": 186,
   "id": "626918d7",
   "metadata": {},
   "outputs": [],
   "source": [
    "# Drop unneeded columns\n",
    "columns_drop = ['f_percentile', 'm_percentile']\n",
    "df_f_m.drop(columns_drop, inplace=True, axis=1)"
   ]
  },
  {
   "cell_type": "code",
   "execution_count": 187,
   "id": "4862a312",
   "metadata": {},
   "outputs": [
    {
     "data": {
      "text/html": [
       "<div>\n",
       "<style scoped>\n",
       "    .dataframe tbody tr th:only-of-type {\n",
       "        vertical-align: middle;\n",
       "    }\n",
       "\n",
       "    .dataframe tbody tr th {\n",
       "        vertical-align: top;\n",
       "    }\n",
       "\n",
       "    .dataframe thead th {\n",
       "        text-align: right;\n",
       "    }\n",
       "</style>\n",
       "<table border=\"1\" class=\"dataframe\">\n",
       "  <thead>\n",
       "    <tr style=\"text-align: right;\">\n",
       "      <th></th>\n",
       "      <th>location_zip</th>\n",
       "      <th>frequency_count</th>\n",
       "      <th>monetary_sum</th>\n",
       "      <th>f_score</th>\n",
       "      <th>m_score</th>\n",
       "    </tr>\n",
       "  </thead>\n",
       "  <tbody>\n",
       "    <tr>\n",
       "      <th>0</th>\n",
       "      <td>80919</td>\n",
       "      <td>1653</td>\n",
       "      <td>489861.74</td>\n",
       "      <td>1</td>\n",
       "      <td>1</td>\n",
       "    </tr>\n",
       "  </tbody>\n",
       "</table>\n",
       "</div>"
      ],
      "text/plain": [
       "   location_zip  frequency_count  monetary_sum f_score m_score\n",
       "0  80919         1653             489861.74     1       1     "
      ]
     },
     "execution_count": 187,
     "metadata": {},
     "output_type": "execute_result"
    }
   ],
   "source": [
    "df_f_m.head(1)"
   ]
  },
  {
   "cell_type": "code",
   "execution_count": 188,
   "id": "724d5b25",
   "metadata": {},
   "outputs": [],
   "source": [
    "df_f_m['score_total'] = df_f_m['f_score'].astype(int) + df_f_m['m_score'].astype(int)"
   ]
  },
  {
   "cell_type": "code",
   "execution_count": 189,
   "id": "29618da1",
   "metadata": {},
   "outputs": [
    {
     "data": {
      "text/html": [
       "<div>\n",
       "<style scoped>\n",
       "    .dataframe tbody tr th:only-of-type {\n",
       "        vertical-align: middle;\n",
       "    }\n",
       "\n",
       "    .dataframe tbody tr th {\n",
       "        vertical-align: top;\n",
       "    }\n",
       "\n",
       "    .dataframe thead th {\n",
       "        text-align: right;\n",
       "    }\n",
       "</style>\n",
       "<table border=\"1\" class=\"dataframe\">\n",
       "  <thead>\n",
       "    <tr style=\"text-align: right;\">\n",
       "      <th></th>\n",
       "      <th>location_zip</th>\n",
       "      <th>frequency_count</th>\n",
       "      <th>monetary_sum</th>\n",
       "      <th>f_score</th>\n",
       "      <th>m_score</th>\n",
       "      <th>score_total</th>\n",
       "    </tr>\n",
       "  </thead>\n",
       "  <tbody>\n",
       "    <tr>\n",
       "      <th>0</th>\n",
       "      <td>80919</td>\n",
       "      <td>1653</td>\n",
       "      <td>489861.74</td>\n",
       "      <td>1</td>\n",
       "      <td>1</td>\n",
       "      <td>2</td>\n",
       "    </tr>\n",
       "  </tbody>\n",
       "</table>\n",
       "</div>"
      ],
      "text/plain": [
       "   location_zip  frequency_count  monetary_sum f_score m_score  score_total\n",
       "0  80919         1653             489861.74     1       1       2          "
      ]
     },
     "execution_count": 189,
     "metadata": {},
     "output_type": "execute_result"
    }
   ],
   "source": [
    "df_f_m.head(1)"
   ]
  },
  {
   "cell_type": "markdown",
   "id": "8afbc29d",
   "metadata": {},
   "source": [
    "## 6. Label each zip based on rank"
   ]
  },
  {
   "cell_type": "code",
   "execution_count": 195,
   "id": "1592edb3",
   "metadata": {},
   "outputs": [],
   "source": [
    "# Define label function\n",
    "def level(df):\n",
    "    if df['score_total'] == 2:\n",
    "        return 'Top'\n",
    "    elif ((df['score_total'] >= 3) and (df['score_total'] <= 4)):\n",
    "        return 'Mid'\n",
    "    elif ((df['score_total'] >= 5) ):\n",
    "        return 'Low'"
   ]
  },
  {
   "cell_type": "code",
   "execution_count": 196,
   "id": "8573b40a",
   "metadata": {},
   "outputs": [
    {
     "data": {
      "text/html": [
       "<div>\n",
       "<style scoped>\n",
       "    .dataframe tbody tr th:only-of-type {\n",
       "        vertical-align: middle;\n",
       "    }\n",
       "\n",
       "    .dataframe tbody tr th {\n",
       "        vertical-align: top;\n",
       "    }\n",
       "\n",
       "    .dataframe thead th {\n",
       "        text-align: right;\n",
       "    }\n",
       "</style>\n",
       "<table border=\"1\" class=\"dataframe\">\n",
       "  <thead>\n",
       "    <tr style=\"text-align: right;\">\n",
       "      <th></th>\n",
       "      <th>location_zip</th>\n",
       "      <th>frequency_count</th>\n",
       "      <th>monetary_sum</th>\n",
       "      <th>f_score</th>\n",
       "      <th>m_score</th>\n",
       "      <th>score_total</th>\n",
       "      <th>label</th>\n",
       "    </tr>\n",
       "  </thead>\n",
       "  <tbody>\n",
       "    <tr>\n",
       "      <th>0</th>\n",
       "      <td>80919</td>\n",
       "      <td>1653</td>\n",
       "      <td>489861.74</td>\n",
       "      <td>1</td>\n",
       "      <td>1</td>\n",
       "      <td>2</td>\n",
       "      <td>Top</td>\n",
       "    </tr>\n",
       "    <tr>\n",
       "      <th>1</th>\n",
       "      <td>80920</td>\n",
       "      <td>1641</td>\n",
       "      <td>466744.75</td>\n",
       "      <td>1</td>\n",
       "      <td>1</td>\n",
       "      <td>2</td>\n",
       "      <td>Top</td>\n",
       "    </tr>\n",
       "    <tr>\n",
       "      <th>2</th>\n",
       "      <td>80921</td>\n",
       "      <td>1309</td>\n",
       "      <td>347282.33</td>\n",
       "      <td>1</td>\n",
       "      <td>1</td>\n",
       "      <td>2</td>\n",
       "      <td>Top</td>\n",
       "    </tr>\n",
       "    <tr>\n",
       "      <th>3</th>\n",
       "      <td>80132</td>\n",
       "      <td>1268</td>\n",
       "      <td>311673.35</td>\n",
       "      <td>1</td>\n",
       "      <td>1</td>\n",
       "      <td>2</td>\n",
       "      <td>Top</td>\n",
       "    </tr>\n",
       "    <tr>\n",
       "      <th>4</th>\n",
       "      <td>80906</td>\n",
       "      <td>1236</td>\n",
       "      <td>449015.50</td>\n",
       "      <td>1</td>\n",
       "      <td>1</td>\n",
       "      <td>2</td>\n",
       "      <td>Top</td>\n",
       "    </tr>\n",
       "  </tbody>\n",
       "</table>\n",
       "</div>"
      ],
      "text/plain": [
       "   location_zip  frequency_count  monetary_sum f_score m_score  score_total  \\\n",
       "0  80919         1653             489861.74     1       1       2             \n",
       "1  80920         1641             466744.75     1       1       2             \n",
       "2  80921         1309             347282.33     1       1       2             \n",
       "3  80132         1268             311673.35     1       1       2             \n",
       "4  80906         1236             449015.50     1       1       2             \n",
       "\n",
       "  label  \n",
       "0  Top   \n",
       "1  Top   \n",
       "2  Top   \n",
       "3  Top   \n",
       "4  Top   "
      ]
     },
     "execution_count": 196,
     "metadata": {},
     "output_type": "execute_result"
    }
   ],
   "source": [
    "# Apply label function\n",
    "df_f_m['label'] = df_f_m.apply(level, axis=1)\n",
    "df_f_m.head()"
   ]
  },
  {
   "cell_type": "code",
   "execution_count": 197,
   "id": "eb53c81c",
   "metadata": {},
   "outputs": [
    {
     "data": {
      "image/png": "[encoded data removed]",
      "text/plain": [
       "<Figure size 432x288 with 1 Axes>"
      ]
     },
     "metadata": {
      "needs_background": "light"
     },
     "output_type": "display_data"
    }
   ],
   "source": [
    "# Plot lables\n",
    "ax = df_f_m['label'].value_counts().plot(kind='bar', fontsize=12)\n",
    "ax.set_ylabel(\"Count\", fontsize=12)\n",
    "plt.xticks(rotation=0)\n",
    "plt.show()"
   ]
  },
  {
   "cell_type": "code",
   "execution_count": 214,
   "id": "6925719e",
   "metadata": {},
   "outputs": [
    {
     "data": {
      "text/html": [
       "<div>\n",
       "<style scoped>\n",
       "    .dataframe tbody tr th:only-of-type {\n",
       "        vertical-align: middle;\n",
       "    }\n",
       "\n",
       "    .dataframe tbody tr th {\n",
       "        vertical-align: top;\n",
       "    }\n",
       "\n",
       "    .dataframe thead th {\n",
       "        text-align: right;\n",
       "    }\n",
       "</style>\n",
       "<table border=\"1\" class=\"dataframe\">\n",
       "  <thead>\n",
       "    <tr style=\"text-align: right;\">\n",
       "      <th></th>\n",
       "      <th>location_zip</th>\n",
       "      <th>frequency_count</th>\n",
       "      <th>monetary_sum</th>\n",
       "      <th>f_score</th>\n",
       "      <th>m_score</th>\n",
       "      <th>score_total</th>\n",
       "      <th>label</th>\n",
       "    </tr>\n",
       "  </thead>\n",
       "  <tbody>\n",
       "    <tr>\n",
       "      <th>0</th>\n",
       "      <td>80919</td>\n",
       "      <td>1653</td>\n",
       "      <td>489861.74</td>\n",
       "      <td>1</td>\n",
       "      <td>1</td>\n",
       "      <td>2</td>\n",
       "      <td>Top</td>\n",
       "    </tr>\n",
       "    <tr>\n",
       "      <th>1</th>\n",
       "      <td>80920</td>\n",
       "      <td>1641</td>\n",
       "      <td>466744.75</td>\n",
       "      <td>1</td>\n",
       "      <td>1</td>\n",
       "      <td>2</td>\n",
       "      <td>Top</td>\n",
       "    </tr>\n",
       "    <tr>\n",
       "      <th>2</th>\n",
       "      <td>80921</td>\n",
       "      <td>1309</td>\n",
       "      <td>347282.33</td>\n",
       "      <td>1</td>\n",
       "      <td>1</td>\n",
       "      <td>2</td>\n",
       "      <td>Top</td>\n",
       "    </tr>\n",
       "    <tr>\n",
       "      <th>3</th>\n",
       "      <td>80132</td>\n",
       "      <td>1268</td>\n",
       "      <td>311673.35</td>\n",
       "      <td>1</td>\n",
       "      <td>1</td>\n",
       "      <td>2</td>\n",
       "      <td>Top</td>\n",
       "    </tr>\n",
       "    <tr>\n",
       "      <th>4</th>\n",
       "      <td>80906</td>\n",
       "      <td>1236</td>\n",
       "      <td>449015.50</td>\n",
       "      <td>1</td>\n",
       "      <td>1</td>\n",
       "      <td>2</td>\n",
       "      <td>Top</td>\n",
       "    </tr>\n",
       "    <tr>\n",
       "      <th>5</th>\n",
       "      <td>80918</td>\n",
       "      <td>994</td>\n",
       "      <td>267439.92</td>\n",
       "      <td>1</td>\n",
       "      <td>1</td>\n",
       "      <td>2</td>\n",
       "      <td>Top</td>\n",
       "    </tr>\n",
       "    <tr>\n",
       "      <th>6</th>\n",
       "      <td>80923</td>\n",
       "      <td>822</td>\n",
       "      <td>191408.40</td>\n",
       "      <td>1</td>\n",
       "      <td>1</td>\n",
       "      <td>2</td>\n",
       "      <td>Top</td>\n",
       "    </tr>\n",
       "    <tr>\n",
       "      <th>7</th>\n",
       "      <td>80922</td>\n",
       "      <td>748</td>\n",
       "      <td>165392.31</td>\n",
       "      <td>1</td>\n",
       "      <td>1</td>\n",
       "      <td>2</td>\n",
       "      <td>Top</td>\n",
       "    </tr>\n",
       "    <tr>\n",
       "      <th>8</th>\n",
       "      <td>80907</td>\n",
       "      <td>714</td>\n",
       "      <td>201730.41</td>\n",
       "      <td>1</td>\n",
       "      <td>1</td>\n",
       "      <td>2</td>\n",
       "      <td>Top</td>\n",
       "    </tr>\n",
       "    <tr>\n",
       "      <th>9</th>\n",
       "      <td>80908</td>\n",
       "      <td>578</td>\n",
       "      <td>125597.60</td>\n",
       "      <td>1</td>\n",
       "      <td>1</td>\n",
       "      <td>2</td>\n",
       "      <td>Top</td>\n",
       "    </tr>\n",
       "    <tr>\n",
       "      <th>10</th>\n",
       "      <td>80909</td>\n",
       "      <td>544</td>\n",
       "      <td>149281.95</td>\n",
       "      <td>1</td>\n",
       "      <td>1</td>\n",
       "      <td>2</td>\n",
       "      <td>Top</td>\n",
       "    </tr>\n",
       "    <tr>\n",
       "      <th>11</th>\n",
       "      <td>80904</td>\n",
       "      <td>469</td>\n",
       "      <td>112827.18</td>\n",
       "      <td>1</td>\n",
       "      <td>1</td>\n",
       "      <td>2</td>\n",
       "      <td>Top</td>\n",
       "    </tr>\n",
       "    <tr>\n",
       "      <th>13</th>\n",
       "      <td>80911</td>\n",
       "      <td>426</td>\n",
       "      <td>111282.80</td>\n",
       "      <td>1</td>\n",
       "      <td>1</td>\n",
       "      <td>2</td>\n",
       "      <td>Top</td>\n",
       "    </tr>\n",
       "  </tbody>\n",
       "</table>\n",
       "</div>"
      ],
      "text/plain": [
       "    location_zip  frequency_count  monetary_sum f_score m_score  score_total  \\\n",
       "0   80919         1653             489861.74     1       1       2             \n",
       "1   80920         1641             466744.75     1       1       2             \n",
       "2   80921         1309             347282.33     1       1       2             \n",
       "3   80132         1268             311673.35     1       1       2             \n",
       "4   80906         1236             449015.50     1       1       2             \n",
       "5   80918         994              267439.92     1       1       2             \n",
       "6   80923         822              191408.40     1       1       2             \n",
       "7   80922         748              165392.31     1       1       2             \n",
       "8   80907         714              201730.41     1       1       2             \n",
       "9   80908         578              125597.60     1       1       2             \n",
       "10  80909         544              149281.95     1       1       2             \n",
       "11  80904         469              112827.18     1       1       2             \n",
       "13  80911         426              111282.80     1       1       2             \n",
       "\n",
       "   label  \n",
       "0   Top   \n",
       "1   Top   \n",
       "2   Top   \n",
       "3   Top   \n",
       "4   Top   \n",
       "5   Top   \n",
       "6   Top   \n",
       "7   Top   \n",
       "8   Top   \n",
       "9   Top   \n",
       "10  Top   \n",
       "11  Top   \n",
       "13  Top   "
      ]
     },
     "execution_count": 214,
     "metadata": {},
     "output_type": "execute_result"
    }
   ],
   "source": [
    "# Now we can filter by label\n",
    "df_f_m[df_f_m['label'] == 'Top']"
   ]
  },
  {
   "cell_type": "markdown",
   "id": "c12267be",
   "metadata": {},
   "source": [
    "## 7. Save Data"
   ]
  },
  {
   "cell_type": "code",
   "execution_count": 215,
   "id": "bdab0a36",
   "metadata": {},
   "outputs": [],
   "source": [
    "df_f_m.to_csv(\"zip_f_m.csv\", encoding='utf-8', index=False)"
   ]
  }
 ],
 "metadata": {
  "kernelspec": {
   "display_name": "Python 3",
   "language": "python",
   "name": "python3"
  },
  "language_info": {
   "codemirror_mode": {
    "name": "ipython",
    "version": 3
   },
   "file_extension": ".py",
   "mimetype": "text/x-python",
   "name": "python",
   "nbconvert_exporter": "python",
   "pygments_lexer": "ipython3",
   "version": "3.8.8"
  }
 },
 "nbformat": 4,
 "nbformat_minor": 5
}
